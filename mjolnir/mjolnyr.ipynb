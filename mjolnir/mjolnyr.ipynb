{
 "cells": [
  {
   "cell_type": "code",
   "execution_count": 15,
   "metadata": {},
   "outputs": [],
   "source": [
    "# All configs\n",
    "\n",
    "data_path = \"../qheat_rtalf/\"\n",
    "\n",
    "output_path = \"../qheat_rtalf/report/\"\n",
    "\n",
    "# path to mjolnir from execution directory, used if ran in another folder, e.g. with 'muninn' script\n",
    "mjolnir_path = \"./\"\n",
    "\n",
    "FIGSIZE_x = 10\n",
    "FIGSIZE_y = 7\n",
    "\n",
    "VIDEO_x = 1280\n",
    "VIDEO_DISPLAY_x = 800\n",
    "dpi = 296"
   ]
  },
  {
   "cell_type": "code",
   "execution_count": 16,
   "metadata": {},
   "outputs": [],
   "source": [
    "# path to mjolnir code\n",
    "import sys\n",
    "sys.path.append(mjolnir_path) \n",
    "\n",
    "import pathlib\n",
    "import re\n",
    "\n",
    "import h5py\n",
    "import imageio\n",
    "import IPython.display as disp\n",
    "\n",
    "import math\n",
    "\n",
    "#%matplotlib notebook\n",
    "%matplotlib inline\n",
    "import matplotlib.pyplot as plt\n",
    "import numpy as np\n",
    "from PIL import Image, ImageDraw, ImageFont, ImageOps\n",
    "from matplotlib.backends.backend_agg import FigureCanvasAgg\n",
    "# from pygifsicle import optimize\n",
    "\n",
    "import hamarr as ham\n",
    "import mjolnir_plot_helper as mph\n",
    "from file_helpers import get_path_matching_regex, get_path_matching_regex_with_groups"
   ]
  },
  {
   "cell_type": "code",
   "execution_count": 17,
   "metadata": {},
   "outputs": [],
   "source": [
    "exp_path = pathlib.Path(data_path) \n",
    "output_dir = pathlib.Path(output_path)\n",
    "\n",
    "FIGSIZE = (FIGSIZE_x, FIGSIZE_y)\n",
    "\n"
   ]
  },
  {
   "cell_type": "code",
   "execution_count": 18,
   "metadata": {},
   "outputs": [
    {
     "name": "stdout",
     "output_type": "stream",
     "text": [
      "Found planet name 'Wasp43b'\n"
     ]
    }
   ],
   "source": [
    "# get planet file\n",
    "\n",
    "planet_files = get_path_matching_regex_with_groups(\n",
    "    exp_path, f\"esp_output_planet_(.+).h5\"\n",
    ")\n",
    "\n",
    "if len(planet_files) == 1:\n",
    "    planet_name = planet_files[0]['groups'][0] \n",
    "    planet_file = planet_files[0]['path']\n",
    "    \n",
    "    print(f\"Found planet name '{planet_name}'\")\n",
    "else:\n",
    "    raise Exception(\"Error looking for single planet files. Found:\", planet_files)"
   ]
  },
  {
   "cell_type": "code",
   "execution_count": 19,
   "metadata": {},
   "outputs": [
    {
     "name": "stdout",
     "output_type": "stream",
     "text": [
      "Found grid file '../qheat_rtalf/esp_output_grid_Wasp43b.h5'\n"
     ]
    }
   ],
   "source": [
    "# get grid file\n",
    "\n",
    "grid_files = get_path_matching_regex_with_groups(\n",
    "    exp_path, f\"esp_output_grid_(.+).h5\"\n",
    ")\n",
    "\n",
    "if len(grid_files) == 1:\n",
    "    planet_g_name = grid_files[0]['groups'][0] \n",
    "    grid_file = grid_files[0]['path']\n",
    "    \n",
    "    print(f\"Found grid file '{grid_file}'\")\n",
    "else:\n",
    "    raise Exception(\"Error looking for single grid files. Found:\", grid_files)"
   ]
  },
  {
   "cell_type": "code",
   "execution_count": 20,
   "metadata": {},
   "outputs": [
    {
     "name": "stdout",
     "output_type": "stream",
     "text": [
      "\n",
      "Planet Parameters\n",
      "=================\n",
      "\n",
      "A                             :     [72427000.]\n",
      "Cp                            :        [13000.]\n",
      "Csurf                         :     [10000000.]\n",
      "DeepModel                     :            [1.]\n",
      "DiffSponge                    :            [0.]\n",
      "Diffc                         :         [0.015]\n",
      "DivDampP                      :            [1.]\n",
      "Gravit                        :           [47.]\n",
      "HyDiff                        :            [1.]\n",
      "NonHydro                      :            [1.]\n",
      "Omega                         :      [9.09e-05]\n",
      "P_Ref                         :     [10000000.]\n",
      "RayleighSponge                :            [1.]\n",
      "RayleighSpongeT               :            [0.]\n",
      "Rd                            :         [3714.]\n",
      "Ruv_sponge                    :        [0.0001]\n",
      "Rw_sponge                     :        [0.0001]\n",
      "Tint                          :          [100.]\n",
      "Tmean                         :         [1800.]\n",
      "Top_altitude                  :      [1400000.]\n",
      "Tstar                         :         [4300.]\n",
      "albedo                        :          [0.18]\n",
      "alf_compute_periodicity       :             [1]\n",
      "alf_diffusivity               :            [2.]\n",
      "alf_dir_beam                  :            [1.]\n",
      "alf_epsi                      :           [0.5]\n",
      "alf_fake_opac                 :            [0.]\n",
      "alf_g_0                       :            [0.]\n",
      "alf_geom_zenith_corr          :            [1.]\n",
      "alf_i2s_transition            :           [0.1]\n",
      "alf_isothermal                :            [0.]\n",
      "alf_ny                        :             [1]\n",
      "alf_real_star                 :            [0.]\n",
      "alf_scat                      :            [1.]\n",
      "alf_scat_corr                 :            [0.]\n",
      "alf_surface_albedo            :           [0.1]\n",
      "alpha_i                       :            [0.]\n",
      "conv_adj                      :            [1.]\n",
      "core_benchmark                :             [0]\n",
      "diff_ang                      :           [0.5]\n",
      "ecc                           :            [0.]\n",
      "f_lw                          :           [0.5]\n",
      "gcm_off                       :            [0.]\n",
      "glevel                        :             [4]\n",
      "kappa_lw                      :        [0.0025]\n",
      "kappa_sw                      :       [0.00125]\n",
      "latf_lw                       :            [0.]\n",
      "longp                         :            [0.]\n",
      "mean_motion                   :      [9.09e-05]\n",
      "n_lw                          :            [2.]\n",
      "n_sw                          :            [1.]\n",
      "nlat_bins                     :            [20]\n",
      "ns_ray_sponge                 :          [0.75]\n",
      "obliquity                     :            [0.]\n",
      "output_mean                   :            [1.]\n",
      "phy_module                    :            [0.]\n",
      "planet_star_dist              :         [0.015]\n",
      "radiative_transfer            :             [1]\n",
      "radius_star                   :         [0.667]\n",
      "rest                          :            [0.]\n",
      "spring_beta                   :          [1.15]\n",
      "spring_dynamics               :            [1.]\n",
      "surface                       :            [0.]\n",
      "sync_rot                      :            [1.]\n",
      "taulw                         : [1063.82978723]\n",
      "taulw_pole                    : [1063.82978723]\n",
      "tausw                         :  [265.95744681]\n",
      "true_long_i                   :            [0.]\n",
      "two_streams_radiative_transfer:            [1.]\n",
      "vlevel                        :            [40]\n",
      "\n",
      "Modules\n",
      "-------\n",
      "\n",
      "Radiative transfer: True\n",
      "Two stream radiative transfer: True\n"
     ]
    }
   ],
   "source": [
    "print()\n",
    "print(\"Planet Parameters\")\n",
    "print(\"=================\")\n",
    "print()\n",
    "\n",
    "with h5py.File(planet_file, 'r') as p:\n",
    "    for k in p.keys():\n",
    "        print(f\"{k:<30}: {str(p[k][...]):>15}\")\n",
    "    \n",
    "    has_TSRT = \"two_streams_radiative_transfer\" in p\n",
    "    has_RT = \"radiative_transfer\" in p\n",
    "    \n",
    "    print()\n",
    "    print(\"Modules\")\n",
    "    print(\"-------\")\n",
    "    print()\n",
    "    print(f\"Radiative transfer: {has_RT}\")\n",
    "    print(f\"Two stream radiative transfer: {has_TSRT}\")"
   ]
  },
  {
   "cell_type": "code",
   "execution_count": 21,
   "metadata": {},
   "outputs": [
    {
     "name": "stdout",
     "output_type": "stream",
     "text": [
      "\n",
      "Grid Parameters\n",
      "===============\n",
      "\n",
      "nv                            :           [40.]\n",
      "point_num                     :         [2562.]\n"
     ]
    }
   ],
   "source": [
    "print()\n",
    "print(\"Grid Parameters\")\n",
    "print(\"===============\")\n",
    "print()\n",
    "\n",
    "with h5py.File(grid_file, 'r') as g:\n",
    "    # print(g.keys())\n",
    "              \n",
    "    #for k in g.keys():\n",
    "    #    print(f\"{k:<30}: {str(g[k][...]):>15}\")\n",
    "    print(f\"{'nv':<30}: {str(g['nv'][...]):>15}\" )\n",
    "    print(f\"{'point_num':<30}: {str(g['point_num'][...]):>15}\" )"
   ]
  },
  {
   "cell_type": "code",
   "execution_count": 22,
   "metadata": {},
   "outputs": [
    {
     "name": "stdout",
     "output_type": "stream",
     "text": [
      "\n",
      "Output files\n",
      "============\n",
      "\n",
      "First index: 0\n",
      "Last index: 33\n"
     ]
    }
   ],
   "source": [
    "# get count of output files\n",
    "outputs = get_path_matching_regex_with_groups(\n",
    "    exp_path, f\"esp_output_{planet_name}_(\\d+).h5\"\n",
    ")\n",
    "\n",
    "# sort'em\n",
    "d = {}\n",
    "\n",
    "for o in outputs:\n",
    "    p = o[\"path\"]\n",
    "    (idx_chr,) = o[\"groups\"]\n",
    "    idx = int(idx_chr)\n",
    "    # print(f\"{idx} - {p}\")\n",
    "    d[idx] = p\n",
    "\n",
    "sorted_files = sorted(d.items())\n",
    "\n",
    "\n",
    "first_idx = sorted_files[0][0]\n",
    "last_idx = sorted_files[-2][0]\n",
    "#last_idx = 20\n",
    "\n",
    "print()\n",
    "print(\"Output files\")\n",
    "print(\"============\")\n",
    "print()\n",
    "\n",
    "print(f\"First index: {first_idx}\")\n",
    "print(f\"Last index: {last_idx}\")\n",
    "\n",
    "\n",
    "\n"
   ]
  },
  {
   "cell_type": "code",
   "execution_count": 23,
   "metadata": {},
   "outputs": [],
   "source": [
    "class args:\n",
    "    pass\n",
    "\n",
    "\n",
    "file_idx = 1\n",
    "\n",
    "args.pview = [\"fuptot\"]\n",
    "args.file = [str(exp_path)]\n",
    "args.simulation_ID = [planet_name]\n",
    "args.initial_file = [file_idx]\n",
    "args.last_file = [file_idx]\n",
    "args.horizontal_lev = [2.5e2]\n",
    "args.vertical_top = [\"default\"]\n",
    "args.split_layer = [\"no_split\"]\n",
    "args.coordinate_sys = [\"icoh\"]\n",
    "args.lmax_adjust = [0]\n",
    "args.slice = [0, 180]\n",
    "args.maketable = False\n",
    "args.no_pressure_log = False\n",
    "args.latlonswap = False\n",
    "args.vcoord = [\"pressure\"]\n",
    "args.pgrid_ref = [f\"pgrid_{file_idx}_{file_idx}_1.txt\"]\n",
    "args.clevels = [40]"
   ]
  },
  {
   "cell_type": "code",
   "execution_count": 24,
   "metadata": {},
   "outputs": [],
   "source": [
    "figures_dir = exp_path / \"figures\"\n",
    "if not figures_dir.exists():\n",
    "    figures_dir.mkdir(parents=True, exist_ok=True)\n",
    "    \n",
    "if not output_dir.exists():\n",
    "    output_dir.mkdir(parents=True, exist_ok=True)"
   ]
  },
  {
   "cell_type": "code",
   "execution_count": 25,
   "metadata": {},
   "outputs": [],
   "source": [
    "def plot_anim_steps(first_idx, last_idx, args, plot_filename, overwrite_anim=False):\n",
    "    \"\"\"Make a movie using args for mjolnir plotting functions, run over all the indexed files\"\"\"\n",
    "    stride = 1\n",
    "    overwrite = False\n",
    "    output_anim_file = output_dir / plot_filename\n",
    "\n",
    "    if output_anim_file.exists() and not overwrite_anim:\n",
    "        print(\n",
    "            f\"{output_anim_file} already exists, skipping. Set overwrite_anim = True to force\"\n",
    "        )\n",
    "        return output_anim_file\n",
    "\n",
    "    fps = 10\n",
    "    # writer = imageio.get_writer(str(output_image), fps=fps, quality=10)\n",
    "    writer = imageio.get_writer(str(output_anim_file), fps=fps)\n",
    "\n",
    "    # for dev, force to use a small number of files\n",
    "    # last_idx  = 20\n",
    "    # compute fig size so that it gets rounded to closest multiple of video macro_block_size\n",
    "    block_size = 16\n",
    "    fs_x = (math.ceil((FIGSIZE_x*dpi)/float(block_size))*block_size)/dpi\n",
    "    fs_y = (math.ceil((FIGSIZE_y*dpi)/float(block_size))*block_size)/dpi\n",
    "    \n",
    "    fig = plt.Figure(figsize=(fs_x, fs_y), dpi=dpi)\n",
    "    ax = fig.subplots(1, 1)\n",
    "    \n",
    "    #size=(VIDEO_x, int(VIDEO_x/FIGSIZE_x*FIGSIZE_y))\n",
    "\n",
    "    for i in range(first_idx, last_idx + 1):\n",
    "\n",
    "        print(f\"plotting: {i: 5}/{last_idx}\\r\", end=\"\")\n",
    "        args.initial_file = [i]\n",
    "        args.last_file = [i]\n",
    "        args.pgrid_ref = [f\"pgrid_{i}_{i}_1.txt\"]\n",
    "\n",
    "        fig.clear()\n",
    "        ax = fig.add_subplot(111)\n",
    "\n",
    "        pgrid_ref = exp_path / args.pgrid_ref[0]\n",
    "        if pgrid_ref.exists():\n",
    "            pass\n",
    "        else:\n",
    "            ham.define_Pgrid(\n",
    "                args.file[0],\n",
    "                planet_name,\n",
    "                args.initial_file[0],\n",
    "                args.last_file[0],\n",
    "                stride,\n",
    "                overwrite=overwrite,\n",
    "            )\n",
    "\n",
    "        mph.make_plot(args, False, axis=(fig, ax))\n",
    "\n",
    "        # canvas = fig.canvas\n",
    "        canvas = FigureCanvasAgg(fig)\n",
    "\n",
    "        # Option 2: Retrieve a view on the renderer buffer...\n",
    "        canvas.draw()\n",
    "        buf = canvas.buffer_rgba()\n",
    "        # ... convert to a NumPy array ...\n",
    "        X = np.asarray(buf)\n",
    "        # ... and pass it to PIL.\n",
    "        # im = Image.fromarray(X)\n",
    "\n",
    "        #import pdb; pdb.set_trace()\n",
    "        writer.append_data(X)\n",
    "\n",
    "    writer.close()\n",
    "\n",
    "    # optimize gif output\n",
    "    #optimize(str(output_image))\n",
    "\n",
    "    return output_anim_file\n",
    "\n",
    "\n",
    "def plot_steps(plot_type, first_idx, last_idx, args):\n",
    "    #fig, ((ax_first, ax_last), (ax_second, ax_mid)) = plt.subplots(\n",
    "    #    2, 2, figsize=FIGSIZE\n",
    "    #)\n",
    "    fig = plt.Figure(figsize=FIGSIZE)\n",
    "    ((ax_first, ax_last), (ax_second, ax_mid)) = fig.subplots(2,2)\n",
    "\n",
    "    i = first_idx\n",
    "    args.pview = [plot_type]\n",
    "    args.initial_file = [i]\n",
    "    args.last_file = [i]\n",
    "    args.pgrid_ref = [f\"pgrid_{i}_{i}_1.txt\"]\n",
    "\n",
    "    mph.make_plot(args, False, axis=(fig, ax_first))\n",
    "    ttl = ax_first.get_title()\n",
    "    ax_first.set_title(ttl + \"\\n\" + f\"Initial (idx={i})\")\n",
    "\n",
    "    i = last_idx\n",
    "    args.pview = [plot_type]\n",
    "    args.initial_file = [i]\n",
    "    args.last_file = [i]\n",
    "    args.pgrid_ref = [f\"pgrid_{i}_{i}_1.txt\"]\n",
    "\n",
    "    mph.make_plot(args, False, axis=(fig, ax_last))\n",
    "    ttl = ax_last.get_title()\n",
    "    ax_last.set_title(ttl + \"\\n\" + f\"Last (idx={i})\")\n",
    "\n",
    "    i = first_idx + 1\n",
    "    args.pview = [plot_type]\n",
    "    args.initial_file = [i]\n",
    "    args.last_file = [i]\n",
    "    args.pgrid_ref = [f\"pgrid_{i}_{i}_1.txt\"]\n",
    "\n",
    "    mph.make_plot(args, False, axis=(fig, ax_second))\n",
    "    ttl = ax_second.get_title()\n",
    "    ax_second.set_title(ttl + \"\\n\" + f\"First step (idx={i})\")\n",
    "\n",
    "    i = (last_idx + first_idx) // 2\n",
    "    args.pview = [plot_type]\n",
    "    args.initial_file = [i]\n",
    "    args.last_file = [i]\n",
    "    args.pgrid_ref = [f\"pgrid_{i}_{i}_1.txt\"]\n",
    "\n",
    "    mph.make_plot(args, False, axis=(fig, ax_mid))\n",
    "    ttl = ax_mid.get_title()\n",
    "    ax_mid.set_title(ttl + \"\\n\" + f\"Middle step (idx={i})\")\n",
    "    \n",
    "    return fig"
   ]
  },
  {
   "cell_type": "code",
   "execution_count": 26,
   "metadata": {},
   "outputs": [],
   "source": [
    "def plot_anim(plotname, plotfile, first, last, args):\n",
    "    print(f\"plotting {plotname} to {plotfile}\")\n",
    "    args.pview = [plotname]\n",
    "    # don't show interactive plots when not asked to\n",
    "\n",
    "    output_image = plot_anim_steps(first_idx, last_idx, args, plotfile)\n",
    "\n",
    "    #im = Image.open(output_image)\n",
    "    return disp.Video(output_image,width=VIDEO_DISPLAY_x)"
   ]
  },
  {
   "cell_type": "code",
   "execution_count": 27,
   "metadata": {},
   "outputs": [],
   "source": [
    "# plots = [\n",
    "#          (\"TP\", \"TP_anim.gif\"),\n",
    "#          (\"Tver\", \"Tver_anim.gif\"),\n",
    "#          (\"Tlonver\", \"Tver_anim.gif\"),\n",
    "#          (\"fuptot\", \"fuptot_anim.gif\"),\n",
    "#          (\"fdowntot\", \"fdowntot_anim.gif\"),\n",
    "#          (\"fnet\", \"fnet_anim.gif\"),\n",
    "#          (\"qheat\", \"qheat_anim.gif\"),\n",
    "#          (\"futprof\", \"futprof_anim.gif\"),\n",
    "#          (\"fdtprof\", \"fdtprof_anim.gif\"),\n",
    "#          (\"fnetprof\", \"fnetprof_anim.gif\"),\n",
    "#         ]\n",
    "\n",
    "# for plotname, plotfile in plots:\n",
    "#     print(f\"plotting {plotname} to {plotfile}\")\n",
    "#     args.pview = [plotname]\n",
    "#     output_image = plot_anim_steps(first_idx, last_idx, args, plotfile)\n",
    "#     im = Image.open(output_image)\n",
    "#     disp.Image(output_image, format=\"gif\")"
   ]
  },
  {
   "cell_type": "markdown",
   "metadata": {},
   "source": [
    "# TP Profile"
   ]
  },
  {
   "cell_type": "code",
   "execution_count": 29,
   "metadata": {},
   "outputs": [
    {
     "name": "stdout",
     "output_type": "stream",
     "text": [
      "plotting TP to TP_anim.mp4\n",
      "Dataset Pressure has already been loaded into memory\n",
      "Dataset Pressure has already been loaded into memory\n",
      "Dataset Pressure has already been loaded into memory\n",
      "Dataset Pressure has already been loaded into memory\n",
      "Dataset Pressure has already been loaded into memory\n",
      "Dataset Pressure has already been loaded into memory\n",
      "Dataset Pressure has already been loaded into memory\n",
      "Dataset Pressure has already been loaded into memory\n",
      "Dataset Pressure has already been loaded into memory\n",
      "Dataset Pressure has already been loaded into memory\n",
      "Dataset Pressure has already been loaded into memory\n",
      "Dataset Pressure has already been loaded into memory\n",
      "Dataset Pressure has already been loaded into memory\n",
      "Dataset Pressure has already been loaded into memory\n",
      "Dataset Pressure has already been loaded into memory\n",
      "Dataset Pressure has already been loaded into memory\n",
      "Dataset Pressure has already been loaded into memory\n",
      "Dataset Pressure has already been loaded into memory\n",
      "Dataset Pressure has already been loaded into memory\n",
      "Dataset Pressure has already been loaded into memory\n",
      "Dataset Pressure has already been loaded into memory\n",
      "plotting:    21/33\r"
     ]
    },
    {
     "ename": "KeyError",
     "evalue": "\"Unable to open object (object 'tau' doesn't exist)\"",
     "output_type": "error",
     "traceback": [
      "\u001b[0;31m---------------------------------------------------------------------------\u001b[0m",
      "\u001b[0;31mKeyError\u001b[0m                                  Traceback (most recent call last)",
      "\u001b[0;32m<ipython-input-29-fbea73999bec>\u001b[0m in \u001b[0;36m<module>\u001b[0;34m\u001b[0m\n\u001b[0;32m----> 1\u001b[0;31m \u001b[0mplot_anim\u001b[0m\u001b[0;34m(\u001b[0m\u001b[0;34m\"TP\"\u001b[0m\u001b[0;34m,\u001b[0m \u001b[0;34m\"TP_anim.mp4\"\u001b[0m\u001b[0;34m,\u001b[0m \u001b[0mfirst_idx\u001b[0m\u001b[0;34m,\u001b[0m \u001b[0mlast_idx\u001b[0m\u001b[0;34m,\u001b[0m \u001b[0margs\u001b[0m\u001b[0;34m)\u001b[0m\u001b[0;34m\u001b[0m\u001b[0;34m\u001b[0m\u001b[0m\n\u001b[0m",
      "\u001b[0;32m<ipython-input-26-ec57a4d6782a>\u001b[0m in \u001b[0;36mplot_anim\u001b[0;34m(plotname, plotfile, first, last, args)\u001b[0m\n\u001b[1;32m      4\u001b[0m     \u001b[0;31m# don't show interactive plots when not asked to\u001b[0m\u001b[0;34m\u001b[0m\u001b[0;34m\u001b[0m\u001b[0;34m\u001b[0m\u001b[0m\n\u001b[1;32m      5\u001b[0m \u001b[0;34m\u001b[0m\u001b[0m\n\u001b[0;32m----> 6\u001b[0;31m     \u001b[0moutput_image\u001b[0m \u001b[0;34m=\u001b[0m \u001b[0mplot_anim_steps\u001b[0m\u001b[0;34m(\u001b[0m\u001b[0mfirst_idx\u001b[0m\u001b[0;34m,\u001b[0m \u001b[0mlast_idx\u001b[0m\u001b[0;34m,\u001b[0m \u001b[0margs\u001b[0m\u001b[0;34m,\u001b[0m \u001b[0mplotfile\u001b[0m\u001b[0;34m)\u001b[0m\u001b[0;34m\u001b[0m\u001b[0;34m\u001b[0m\u001b[0m\n\u001b[0m\u001b[1;32m      7\u001b[0m \u001b[0;34m\u001b[0m\u001b[0m\n\u001b[1;32m      8\u001b[0m     \u001b[0;31m#im = Image.open(output_image)\u001b[0m\u001b[0;34m\u001b[0m\u001b[0;34m\u001b[0m\u001b[0;34m\u001b[0m\u001b[0m\n",
      "\u001b[0;32m<ipython-input-25-7da4b298befa>\u001b[0m in \u001b[0;36mplot_anim_steps\u001b[0;34m(first_idx, last_idx, args, plot_filename, overwrite_anim)\u001b[0m\n\u001b[1;32m     50\u001b[0m             )\n\u001b[1;32m     51\u001b[0m \u001b[0;34m\u001b[0m\u001b[0m\n\u001b[0;32m---> 52\u001b[0;31m         \u001b[0mmph\u001b[0m\u001b[0;34m.\u001b[0m\u001b[0mmake_plot\u001b[0m\u001b[0;34m(\u001b[0m\u001b[0margs\u001b[0m\u001b[0;34m,\u001b[0m \u001b[0;32mFalse\u001b[0m\u001b[0;34m,\u001b[0m \u001b[0maxis\u001b[0m\u001b[0;34m=\u001b[0m\u001b[0;34m(\u001b[0m\u001b[0mfig\u001b[0m\u001b[0;34m,\u001b[0m \u001b[0max\u001b[0m\u001b[0;34m)\u001b[0m\u001b[0;34m)\u001b[0m\u001b[0;34m\u001b[0m\u001b[0;34m\u001b[0m\u001b[0m\n\u001b[0m\u001b[1;32m     53\u001b[0m \u001b[0;34m\u001b[0m\u001b[0m\n\u001b[1;32m     54\u001b[0m         \u001b[0;31m# canvas = fig.canvas\u001b[0m\u001b[0;34m\u001b[0m\u001b[0;34m\u001b[0m\u001b[0;34m\u001b[0m\u001b[0m\n",
      "\u001b[0;32m~/prog/astro/unibe/THOR/mjolnir/mjolnir_plot_helper.py\u001b[0m in \u001b[0;36mmake_plot\u001b[0;34m(args, save, axis)\u001b[0m\n\u001b[1;32m     99\u001b[0m         \u001b[0mexit\u001b[0m\u001b[0;34m(\u001b[0m\u001b[0;34m)\u001b[0m\u001b[0;34m\u001b[0m\u001b[0;34m\u001b[0m\u001b[0m\n\u001b[1;32m    100\u001b[0m \u001b[0;34m\u001b[0m\u001b[0m\n\u001b[0;32m--> 101\u001b[0;31m     outall = ham.GetOutput(resultsf, simulation_ID, ntsi, nts, openrg=openrg,\n\u001b[0m\u001b[1;32m    102\u001b[0m                            pressure_vert=use_p, pgrid_ref=args.pgrid_ref[0])\n\u001b[1;32m    103\u001b[0m \u001b[0;34m\u001b[0m\u001b[0m\n",
      "\u001b[0;32m~/prog/astro/unibe/THOR/mjolnir/hamarr.py\u001b[0m in \u001b[0;36m__init__\u001b[0;34m(self, resultsf, simID, ntsi, nts, stride, openrg, pressure_vert, rotation, theta_y, theta_z, pgrid_ref)\u001b[0m\n\u001b[1;32m    368\u001b[0m             self.rg = rg_out_new(resultsf, simID, ntsi, nts, self.input, self.grid,\n\u001b[1;32m    369\u001b[0m                              pressure_vert=pressure_vert, pgrid_ref=pgrid_ref)\n\u001b[0;32m--> 370\u001b[0;31m         \u001b[0mself\u001b[0m\u001b[0;34m.\u001b[0m\u001b[0moutput\u001b[0m \u001b[0;34m=\u001b[0m \u001b[0moutput_new\u001b[0m\u001b[0;34m(\u001b[0m\u001b[0mresultsf\u001b[0m\u001b[0;34m,\u001b[0m \u001b[0msimID\u001b[0m\u001b[0;34m,\u001b[0m \u001b[0mntsi\u001b[0m\u001b[0;34m,\u001b[0m \u001b[0mnts\u001b[0m\u001b[0;34m,\u001b[0m \u001b[0mself\u001b[0m\u001b[0;34m.\u001b[0m\u001b[0minput\u001b[0m\u001b[0;34m,\u001b[0m \u001b[0mself\u001b[0m\u001b[0;34m.\u001b[0m\u001b[0mgrid\u001b[0m\u001b[0;34m,\u001b[0m \u001b[0mstride\u001b[0m\u001b[0;34m=\u001b[0m\u001b[0mstride\u001b[0m\u001b[0;34m)\u001b[0m\u001b[0;34m\u001b[0m\u001b[0;34m\u001b[0m\u001b[0m\n\u001b[0m\u001b[1;32m    371\u001b[0m \u001b[0;34m\u001b[0m\u001b[0m\n\u001b[1;32m    372\u001b[0m \u001b[0;32mdef\u001b[0m \u001b[0mdefine_Pgrid\u001b[0m\u001b[0;34m(\u001b[0m\u001b[0mresultsf\u001b[0m\u001b[0;34m,\u001b[0m \u001b[0msimID\u001b[0m\u001b[0;34m,\u001b[0m \u001b[0mntsi\u001b[0m\u001b[0;34m,\u001b[0m \u001b[0mnts\u001b[0m\u001b[0;34m,\u001b[0m \u001b[0mstride\u001b[0m\u001b[0;34m,\u001b[0m \u001b[0moverwrite\u001b[0m\u001b[0;34m=\u001b[0m\u001b[0;32mFalse\u001b[0m\u001b[0;34m)\u001b[0m\u001b[0;34m:\u001b[0m\u001b[0;34m\u001b[0m\u001b[0;34m\u001b[0m\u001b[0m\n",
      "\u001b[0;32m~/prog/astro/unibe/THOR/mjolnir/hamarr.py\u001b[0m in \u001b[0;36m__init__\u001b[0;34m(self, resultsf, simID, ntsi, nts, input, grid, stride)\u001b[0m\n\u001b[1;32m    201\u001b[0m                 \u001b[0;32mfor\u001b[0m \u001b[0mkey\u001b[0m \u001b[0;32min\u001b[0m \u001b[0moutputs\u001b[0m\u001b[0;34m.\u001b[0m\u001b[0mkeys\u001b[0m\u001b[0;34m(\u001b[0m\u001b[0;34m)\u001b[0m\u001b[0;34m:\u001b[0m\u001b[0;34m\u001b[0m\u001b[0;34m\u001b[0m\u001b[0m\n\u001b[1;32m    202\u001b[0m                     setattr(self, outputs[key]+'_lo', h5py.VirtualLayout(shape=\n\u001b[0;32m--> 203\u001b[0;31m                                 (np.shape(openh5[key])[0],nts-ntsi+1),dtype='f8'))\n\u001b[0m\u001b[1;32m    204\u001b[0m \u001b[0;34m\u001b[0m\u001b[0m\n\u001b[1;32m    205\u001b[0m             \u001b[0;31m#shove source reference into layout\u001b[0m\u001b[0;34m\u001b[0m\u001b[0;34m\u001b[0m\u001b[0;34m\u001b[0m\u001b[0m\n",
      "\u001b[0;32mh5py/_debian_h5py_serial/_objects.pyx\u001b[0m in \u001b[0;36mh5py._debian_h5py_serial._objects.with_phil.wrapper\u001b[0;34m()\u001b[0m\n",
      "\u001b[0;32mh5py/_debian_h5py_serial/_objects.pyx\u001b[0m in \u001b[0;36mh5py._debian_h5py_serial._objects.with_phil.wrapper\u001b[0;34m()\u001b[0m\n",
      "\u001b[0;32m/usr/lib/python3/dist-packages/h5py/_debian_h5py_serial/_hl/group.py\u001b[0m in \u001b[0;36m__getitem__\u001b[0;34m(self, name)\u001b[0m\n\u001b[1;32m    262\u001b[0m                 \u001b[0;32mraise\u001b[0m \u001b[0mValueError\u001b[0m\u001b[0;34m(\u001b[0m\u001b[0;34m\"Invalid HDF5 object reference\"\u001b[0m\u001b[0;34m)\u001b[0m\u001b[0;34m\u001b[0m\u001b[0;34m\u001b[0m\u001b[0m\n\u001b[1;32m    263\u001b[0m         \u001b[0;32melse\u001b[0m\u001b[0;34m:\u001b[0m\u001b[0;34m\u001b[0m\u001b[0;34m\u001b[0m\u001b[0m\n\u001b[0;32m--> 264\u001b[0;31m             \u001b[0moid\u001b[0m \u001b[0;34m=\u001b[0m \u001b[0mh5o\u001b[0m\u001b[0;34m.\u001b[0m\u001b[0mopen\u001b[0m\u001b[0;34m(\u001b[0m\u001b[0mself\u001b[0m\u001b[0;34m.\u001b[0m\u001b[0mid\u001b[0m\u001b[0;34m,\u001b[0m \u001b[0mself\u001b[0m\u001b[0;34m.\u001b[0m\u001b[0m_e\u001b[0m\u001b[0;34m(\u001b[0m\u001b[0mname\u001b[0m\u001b[0;34m)\u001b[0m\u001b[0;34m,\u001b[0m \u001b[0mlapl\u001b[0m\u001b[0;34m=\u001b[0m\u001b[0mself\u001b[0m\u001b[0;34m.\u001b[0m\u001b[0m_lapl\u001b[0m\u001b[0;34m)\u001b[0m\u001b[0;34m\u001b[0m\u001b[0;34m\u001b[0m\u001b[0m\n\u001b[0m\u001b[1;32m    265\u001b[0m \u001b[0;34m\u001b[0m\u001b[0m\n\u001b[1;32m    266\u001b[0m         \u001b[0motype\u001b[0m \u001b[0;34m=\u001b[0m \u001b[0mh5i\u001b[0m\u001b[0;34m.\u001b[0m\u001b[0mget_type\u001b[0m\u001b[0;34m(\u001b[0m\u001b[0moid\u001b[0m\u001b[0;34m)\u001b[0m\u001b[0;34m\u001b[0m\u001b[0;34m\u001b[0m\u001b[0m\n",
      "\u001b[0;32mh5py/_debian_h5py_serial/_objects.pyx\u001b[0m in \u001b[0;36mh5py._debian_h5py_serial._objects.with_phil.wrapper\u001b[0;34m()\u001b[0m\n",
      "\u001b[0;32mh5py/_debian_h5py_serial/_objects.pyx\u001b[0m in \u001b[0;36mh5py._debian_h5py_serial._objects.with_phil.wrapper\u001b[0;34m()\u001b[0m\n",
      "\u001b[0;32mh5py/_debian_h5py_serial/h5o.pyx\u001b[0m in \u001b[0;36mh5py._debian_h5py_serial.h5o.open\u001b[0;34m()\u001b[0m\n",
      "\u001b[0;31mKeyError\u001b[0m: \"Unable to open object (object 'tau' doesn't exist)\""
     ]
    }
   ],
   "source": [
    "plot_anim(\"TP\", \"TP_anim.mp4\", first_idx, last_idx, args)"
   ]
  },
  {
   "cell_type": "code",
   "execution_count": null,
   "metadata": {},
   "outputs": [],
   "source": [
    "plot_steps(\"TP\", first_idx, last_idx, args)"
   ]
  },
  {
   "cell_type": "markdown",
   "metadata": {},
   "source": [
    "# Tver"
   ]
  },
  {
   "cell_type": "code",
   "execution_count": null,
   "metadata": {},
   "outputs": [],
   "source": [
    "plot_anim(\"Tver\", \"Tver_anim.mp4\", first_idx, last_idx, args)"
   ]
  },
  {
   "cell_type": "code",
   "execution_count": null,
   "metadata": {},
   "outputs": [],
   "source": [
    "plot_steps(\"Tver\", first_idx, last_idx, args)"
   ]
  },
  {
   "cell_type": "markdown",
   "metadata": {},
   "source": [
    "# Tlonver"
   ]
  },
  {
   "cell_type": "code",
   "execution_count": null,
   "metadata": {},
   "outputs": [],
   "source": [
    "plot_anim(\"Tlonver\", \"Tlonver_anim.mp4\", first_idx, last_idx, args)"
   ]
  },
  {
   "cell_type": "code",
   "execution_count": null,
   "metadata": {},
   "outputs": [],
   "source": [
    "plot_steps(\"Tlonver\", first_idx, last_idx, args)"
   ]
  },
  {
   "cell_type": "markdown",
   "metadata": {},
   "source": [
    "# Zonal wind profile ulev"
   ]
  },
  {
   "cell_type": "code",
   "execution_count": null,
   "metadata": {},
   "outputs": [],
   "source": [
    "plot_anim(\"uver\", \"uver_anim.mp4\", first_idx, last_idx, args)"
   ]
  },
  {
   "cell_type": "code",
   "execution_count": null,
   "metadata": {},
   "outputs": [],
   "source": [
    "plot_steps(\"uver\", first_idx, last_idx, args)"
   ]
  },
  {
   "cell_type": "markdown",
   "metadata": {},
   "source": [
    "# Two Stream Radiative transfer"
   ]
  },
  {
   "cell_type": "code",
   "execution_count": null,
   "metadata": {},
   "outputs": [],
   "source": [
    "if has_TSRT:\n",
    "    print(\"Two Stream Radiative Transfer Enabled\")\n",
    "else:\n",
    "    print(\"Two Stream Radiative Transfer Disabled, no plots will appear in this group\")"
   ]
  },
  {
   "cell_type": "markdown",
   "metadata": {},
   "source": [
    "## Qheat"
   ]
  },
  {
   "cell_type": "code",
   "execution_count": null,
   "metadata": {},
   "outputs": [],
   "source": [
    "pa = None\n",
    "if has_TSRT:\n",
    "    pa = plot_anim(\"qheat\", \"qheat_anim.mp4\", first_idx, last_idx, args)\n",
    "    \n",
    "pa"
   ]
  },
  {
   "cell_type": "code",
   "execution_count": null,
   "metadata": {},
   "outputs": [],
   "source": [
    "if has_TSRT:\n",
    "    plot_steps(\"qheat\", first_idx, last_idx, args)"
   ]
  },
  {
   "cell_type": "code",
   "execution_count": null,
   "metadata": {},
   "outputs": [],
   "source": [
    "pa = None\n",
    "if has_TSRT:\n",
    "    pa = plot_anim(\"qheatprof\", \"qheatprof_anim.mp4\", first_idx, last_idx, args)\n",
    "    \n",
    "pa"
   ]
  },
  {
   "cell_type": "code",
   "execution_count": null,
   "metadata": {},
   "outputs": [],
   "source": [
    "pa = None\n",
    "if has_TSRT:\n",
    "    pa = plot_anim(\"TSqheatprof\", \"TSqheatprof_anim.mp4\", first_idx, last_idx, args)\n",
    "    \n",
    "pa"
   ]
  },
  {
   "cell_type": "code",
   "execution_count": null,
   "metadata": {},
   "outputs": [],
   "source": [
    "pa = None\n",
    "if has_TSRT:\n",
    "    pa = plot_anim(\"DGqheatprof\", \"DGqheatprof_anim.mp4\", first_idx, last_idx, args)\n",
    "    \n",
    "pa"
   ]
  },
  {
   "cell_type": "markdown",
   "metadata": {},
   "source": [
    "## Total Upward Flux \n",
    "\n",
    "### Profile"
   ]
  },
  {
   "cell_type": "code",
   "execution_count": null,
   "metadata": {},
   "outputs": [],
   "source": [
    "pa = None\n",
    "if has_TSRT:\n",
    "    pa = plot_anim(\"TSfutprof\", \"futprof_anim.mp4\", first_idx, last_idx, args)\n",
    "\n",
    "pa"
   ]
  },
  {
   "cell_type": "code",
   "execution_count": null,
   "metadata": {},
   "outputs": [],
   "source": [
    "if has_TSRT:\n",
    "    plot_steps(\"TSfutprof\", first_idx, last_idx, args)"
   ]
  },
  {
   "cell_type": "markdown",
   "metadata": {},
   "source": [
    "### Horizontal"
   ]
  },
  {
   "cell_type": "code",
   "execution_count": null,
   "metadata": {},
   "outputs": [],
   "source": [
    "pa = None\n",
    "if has_TSRT:\n",
    "    pa = plot_anim(\"TSfuptot\", \"fuptot_anim.mp4\", first_idx, last_idx, args)\n",
    "    \n",
    "pa"
   ]
  },
  {
   "cell_type": "code",
   "execution_count": null,
   "metadata": {},
   "outputs": [],
   "source": [
    "if has_TSRT:\n",
    "    plot_steps(\"TSfuptot\", first_idx, last_idx, args)"
   ]
  },
  {
   "cell_type": "markdown",
   "metadata": {},
   "source": [
    "## Total Downward Flux \n",
    "\n",
    "### Profile"
   ]
  },
  {
   "cell_type": "code",
   "execution_count": null,
   "metadata": {},
   "outputs": [],
   "source": [
    "pa = None\n",
    "if has_TSRT:\n",
    "    pa = plot_anim(\"TSfdtprof\", \"fdtprof_anim.mp4\", first_idx, last_idx, args)\n",
    "    \n",
    "pa"
   ]
  },
  {
   "cell_type": "code",
   "execution_count": null,
   "metadata": {},
   "outputs": [],
   "source": [
    "if has_TSRT:\n",
    "    plot_steps(\"TSfdtprof\", first_idx, last_idx, args)"
   ]
  },
  {
   "cell_type": "markdown",
   "metadata": {},
   "source": [
    "### Horizontal"
   ]
  },
  {
   "cell_type": "code",
   "execution_count": null,
   "metadata": {},
   "outputs": [],
   "source": [
    "pa = None\n",
    "if has_TSRT:\n",
    "    pa = plot_anim(\"TSfdowntot\", \"fdowntot_anim.mp4\", first_idx, last_idx, args)\n",
    "    \n",
    "pa"
   ]
  },
  {
   "cell_type": "code",
   "execution_count": null,
   "metadata": {},
   "outputs": [],
   "source": [
    "if has_TSRT:\n",
    "    plot_steps(\"TSfdowntot\", first_idx, last_idx, args)"
   ]
  },
  {
   "cell_type": "markdown",
   "metadata": {},
   "source": [
    "## Total Net Flux \n",
    "\n",
    "### Profile"
   ]
  },
  {
   "cell_type": "code",
   "execution_count": null,
   "metadata": {},
   "outputs": [],
   "source": [
    "pa = None \n",
    "\n",
    "if has_TSRT:\n",
    "    pa = plot_anim(\"TSfluxprof\", \"fluxprof_anim.mp4\", first_idx, last_idx, args)\n",
    "    \n",
    "pa"
   ]
  },
  {
   "cell_type": "code",
   "execution_count": null,
   "metadata": {},
   "outputs": [],
   "source": [
    "if has_TSRT:\n",
    "    plot_steps(\"TSfluxprof\", first_idx, last_idx, args)"
   ]
  },
  {
   "cell_type": "markdown",
   "metadata": {},
   "source": [
    "### Horizontal"
   ]
  },
  {
   "cell_type": "code",
   "execution_count": null,
   "metadata": {},
   "outputs": [],
   "source": [
    "pa = None\n",
    "if has_TSRT:\n",
    "    pa = plot_anim(\"TSfluxprof\", \"TSfluxprof_anim.mp4\", first_idx, last_idx, args)\n",
    "    \n",
    "pa"
   ]
  },
  {
   "cell_type": "code",
   "execution_count": null,
   "metadata": {},
   "outputs": [],
   "source": [
    "if has_TSRT:\n",
    "    plot_steps(\"TSfluxprof\", first_idx, last_idx, args)"
   ]
  },
  {
   "cell_type": "code",
   "execution_count": null,
   "metadata": {},
   "outputs": [],
   "source": []
  },
  {
   "cell_type": "code",
   "execution_count": null,
   "metadata": {},
   "outputs": [],
   "source": []
  }
 ],
 "metadata": {
  "kernelspec": {
   "display_name": "Python 3",
   "language": "python",
   "name": "python3"
  },
  "language_info": {
   "codemirror_mode": {
    "name": "ipython",
    "version": 3
   },
   "file_extension": ".py",
   "mimetype": "text/x-python",
   "name": "python",
   "nbconvert_exporter": "python",
   "pygments_lexer": "ipython3",
   "version": "3.8.3rc1"
  }
 },
 "nbformat": 4,
 "nbformat_minor": 4
}
